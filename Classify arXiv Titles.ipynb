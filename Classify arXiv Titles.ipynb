{
 "cells": [
  {
   "cell_type": "markdown",
   "metadata": {},
   "source": [
    "<h1><center> RNN-based Classification of arXiv Titles </h1></center>"
   ]
  },
  {
   "cell_type": "markdown",
   "metadata": {
    "collapsed": true
   },
   "source": [
    "### Get data from arXiv"
   ]
  },
  {
   "cell_type": "markdown",
   "metadata": {},
   "source": [
    "From [Wikipedia](https://en.wikipedia.org/wiki/ArXiv): \"arXiv (pronounced 'archive') is a repository of electronic preprints (known as e-prints) approved for publication after moderation, that consists of scientific papers in the fields of mathematics, physics, astronomy, computer science, quantitative biology, statistics, and quantitative finance, which can be accessed online.\"\n",
    "\n",
    "The code below uses the package [arxivpy](https://github.com/titipata/arxivpy), which is a wrapper for the [arXiv API](https://arxiv.org/help/api/index).\n",
    "\n",
    "We use it to fetch titles, categories, and published dates from paper submissions in the 'cs' (Computer Science) and 'stats' (Statistics) categories, in the following sub-categories:\n",
    "\n",
    "- cs.CV: Computer Vision and Pattern Recognition\n",
    "- cs.CL: Computation and Language\n",
    "- cs.LG: Learning\n",
    "- cs.AI: Artificial Intelligence\n",
    "- cs.NE: Neural and Evolutionary Computing\n",
    "- stat.ML: Machine Learning\n",
    "\n",
    "#### Important:\n",
    "There is no need to run the cell below, as the dataset is already provided in the 'data' folder. It takes a long time to run."
   ]
  },
  {
   "cell_type": "code",
   "execution_count": null,
   "metadata": {},
   "outputs": [],
   "source": [
    "# import arxivpy\n",
    "# import pandas as pd\n",
    "\n",
    "# category_list = ['cs.CV', 'cs.CL', 'cs.LG', 'cs.AI', 'cs.NE', 'stat.ML']\n",
    "\n",
    "# titles = []\n",
    "# terms1 = []\n",
    "# terms2 = []\n",
    "# dates = []\n",
    "\n",
    "# for category in category_list:\n",
    "#     search_query = arxivpy.generate_query(terms=category, prefix='category')\n",
    "#     articles = arxivpy.query(search_query, start_index=0, max_index=5000, results_per_iteration=1000, wait_time=5.0, sort_by='lastUpdatedDate')\n",
    "#     for i in range(len(articles)):\n",
    "#         titles.append(articles[i]['title'])\n",
    "#         terms1.append(articles[i]['term'])\n",
    "#         terms2.append(articles[i]['terms'])\n",
    "#         dates.append(articles[i]['publish_date'])\n",
    "\n",
    "# dataset = pd.DataFrame({'title': titles, 'term':terms1, 'terms':terms2, 'publish_date':dates})\n",
    "# dataset.to_csv('data/arxiv_dataset.csv', index=False)"
   ]
  },
  {
   "cell_type": "markdown",
   "metadata": {},
   "source": [
    "### Upgrade CNTK to the latest version"
   ]
  },
  {
   "cell_type": "markdown",
   "metadata": {},
   "source": [
    "The default CNTK version for the Python runtimes in Azure Notebooks is 2.0 (when this notebook was created). The CNTK model in this notebook was created and trained with CNTK 2.4. Therefore it is necessary to upgrade CNTK due to compatibility issues between CNTK versions. Here we upgrade it to the latest version."
   ]
  },
  {
   "cell_type": "code",
   "execution_count": 1,
   "metadata": {},
   "outputs": [
    {
     "name": "stdout",
     "output_type": "stream",
     "text": [
      "Collecting cntk\n",
      "\u001b[?25l  Downloading https://files.pythonhosted.org/packages/2f/30/7b3fd72684221cc6b867c7065e0c71a51c257177dcc0293a7c18245df9f2/cntk-2.5.1-cp36-cp36m-manylinux1_x86_64.whl (72.7MB)\n",
      "\u001b[K    100% |████████████████████████████████| 72.7MB 15kB/s eta 0:00:011 6% |██▎                             | 5.0MB 2.5MB/s eta 0:00:28    11% |███▋                            | 8.2MB 3.7MB/s eta 0:00:18    12% |███▉                            | 8.7MB 2.7MB/s eta 0:00:25    12% |████                            | 9.1MB 2.6MB/s eta 0:00:25    31% |██████████                      | 22.8MB 2.3MB/s eta 0:00:22    34% |███████████                     | 24.8MB 2.6MB/s eta 0:00:19    34% |███████████▏                    | 25.3MB 2.1MB/s eta 0:00:23    48% |███████████████▍                | 34.9MB 2.8MB/s eta 0:00:14    50% |████████████████▏               | 36.7MB 5.2MB/s eta 0:00:07    52% |████████████████▊               | 38.0MB 5.4MB/s eta 0:00:07    53% |█████████████████▎              | 39.2MB 2.5MB/s eta 0:00:14    56% |██████████████████              | 40.8MB 3.3MB/s eta 0:00:10    61% |███████████████████▊            | 44.8MB 3.4MB/s eta 0:00:09    62% |████████████████████            | 45.2MB 3.7MB/s eta 0:00:08  | 45.4MB 4.4MB/s eta 0:00:07████████▎           | 46.0MB 3.8MB/s eta 0:00:08    64% |████████████████████▊           | 47.1MB 4.0MB/s eta 0:00:07    66% |█████████████████████▎          | 48.2MB 4.0MB/s eta 0:00:07    72% |███████████████████████▏        | 52.6MB 4.8MB/s eta 0:00:05    74% |███████████████████████▉        | 54.0MB 5.0MB/s eta 0:00:04    75% |████████████████████████▏       | 54.8MB 5.5MB/s eta 0:00:04    78% |█████████████████████████▏      | 57.2MB 3.7MB/s eta 0:00:05    | 61.2MB 3.1MB/s eta 0:00:04   93% |██████████████████████████████  | 68.0MB 4.3MB/s eta 0:00:02    96% |███████████████████████████████ | 70.3MB 1.8MB/s eta 0:00:02    98% |███████████████████████████████▍| 71.2MB 9.7MB/s eta 0:00:01████████▋| 71.8MB 2.5MB/s eta 0:00:01\n",
      "\u001b[?25hInstalling collected packages: cntk\n",
      "  Found existing installation: cntk 2.0\n",
      "    Uninstalling cntk-2.0:\n",
      "      Successfully uninstalled cntk-2.0\n",
      "Successfully installed cntk-2.5.1\n"
     ]
    }
   ],
   "source": [
    "!pip install --upgrade --no-deps cntk"
   ]
  },
  {
   "cell_type": "markdown",
   "metadata": {},
   "source": [
    "### Load required packages"
   ]
  },
  {
   "cell_type": "code",
   "execution_count": 2,
   "metadata": {},
   "outputs": [
    {
     "name": "stderr",
     "output_type": "stream",
     "text": [
      "/home/nbuser/anaconda3_501/lib/python3.6/site-packages/matplotlib/font_manager.py:281: UserWarning: Matplotlib is building the font cache using fc-list. This may take a moment.\n",
      "  'Matplotlib is building the font cache using fc-list. '\n"
     ]
    }
   ],
   "source": [
    "import cntk as C\n",
    "import numpy as np\n",
    "import matplotlib.pyplot as plt\n",
    "import pandas as pd\n",
    "import string\n",
    "import re\n",
    "import time\n",
    "from sklearn.model_selection import train_test_split\n",
    "from sklearn.metrics import confusion_matrix"
   ]
  },
  {
   "cell_type": "code",
   "execution_count": 3,
   "metadata": {},
   "outputs": [
    {
     "name": "stdout",
     "output_type": "stream",
     "text": [
      "2.5.1\n"
     ]
    }
   ],
   "source": [
    "print(C.__version__)"
   ]
  },
  {
   "cell_type": "markdown",
   "metadata": {},
   "source": [
    "### Load and prepare arXiv data"
   ]
  },
  {
   "cell_type": "markdown",
   "metadata": {},
   "source": [
    "Here we load the provided dataset and build a list with all unique titles available that will be used for the model training.\n",
    "\n",
    "For this classification task, we keep inly titles belonging to the 3 largest categories. We also preprocess the data by removing any title that has some character that is not an ASCII letter, not a digit, not a punctuation character, or not a blank space.\n",
    "\n",
    "Finally we \"clean\" the text by removing tokens that we think will not contribute for the classification task. In our simple case, we just remove punctuation, digits, and trim whitespaces."
   ]
  },
  {
   "cell_type": "code",
   "execution_count": 4,
   "metadata": {},
   "outputs": [
    {
     "name": "stdout",
     "output_type": "stream",
     "text": [
      "cs.CV                                                                                                  9999\n",
      "cs.AI                                                                                                  4031\n",
      "cs.CL                                                                                                  3026\n",
      "cs.LG                                                                                                  2377\n",
      "cs.LG|stat.ML                                                                                          1865\n",
      "stat.ML|cs.LG                                                                                          1676\n",
      "stat.ML                                                                                                1483\n",
      "cmp-lg|cs.CL                                                                                            890\n",
      "cs.NE                                                                                                   857\n",
      "cs.CV|cs.LG                                                                                             478\n",
      "cs.LG|cs.AI|stat.ML                                                                                     360\n",
      "cs.LG|cs.AI                                                                                             303\n",
      "cs.CL|cs.AI                                                                                             237\n",
      "cs.AI|cs.LG                                                                                             237\n",
      "cs.CL|I.2.7                                                                                             237\n",
      "cs.CL|cs.LG                                                                                             236\n",
      "cs.LG|cs.CV                                                                                             211\n",
      "cs.CV|cs.LG|stat.ML                                                                                     210\n",
      "cs.CV|cs.AI                                                                                             207\n",
      "cs.IR|cs.CL                                                                                             197\n",
      "cs.AI|cs.LO                                                                                             193\n",
      "cs.AI|cs.LG|stat.ML                                                                                     190\n",
      "cs.CV|cs.RO                                                                                             174\n",
      "cs.LG|cs.NE                                                                                             172\n",
      "cs.CV|cs.LG|cs.NE                                                                                       165\n",
      "cs.NE|cs.AI                                                                                             162\n",
      "cs.CL|cs.IR                                                                                             156\n",
      "stat.ME|stat.ML                                                                                         147\n",
      "math.ST|stat.ML|stat.TH                                                                                 147\n",
      "cs.RO|cs.CV                                                                                             147\n",
      "                                                                                                       ... \n",
      "math.ST|cs.IT|math.IT|math.OC|stat.ME|stat.ML|stat.TH                                                     1\n",
      "stat.ME|stat.ML|62J12(Primary) 62J07(Secondary)                                                           1\n",
      "cs.SI|cs.CL|physics.soc-ph|1D30|H.4.3; J.4                                                                1\n",
      "cs.LG|cs.CC|cs.DM                                                                                         1\n",
      "cs.CV|cs.IR|I.4.7; I.5.4; I.4.8; I.4.9; I.5.2                                                             1\n",
      "cs.CV|I.4.5; I.4.8; G.3                                                                                   1\n",
      "cs.AI|cs.LG|math.ST|stat.TH|I.2; I.2.6; I.2.8; F.1.3                                                      1\n",
      "stat.ML|math.ST|stat.TH|62M09, 60J10, 91F20, 68T50                                                        1\n",
      "cs.CV|cs.GR|cs.IT|math.IT|94A08 (Primary) 65D18, 65D19, 68U10, 94A12 (Secondary)|I.4.3; I.5; I.4.10       1\n",
      "cs.LG|cs.AI|cs.NE|cs.RO|stat.ML                                                                           1\n",
      "cs.LG|cs.AI|I.5.1;I5.3                                                                                    1\n",
      "cs.SD|cs.MM|stat.AP|stat.ML                                                                               1\n",
      "cs.IR|cs.AI|H.4.2; J.4                                                                                    1\n",
      "cs.CV|cs.IT|cs.LG|cs.NE|math.IT|stat.ML                                                                   1\n",
      "cs.SI|cs.CR|stat.ML                                                                                       1\n",
      "cs.AI|cs.LO|cs.SC|F.4.1; I.2.3                                                                            1\n",
      "physics.med-ph|cs.CV|math.OC                                                                              1\n",
      "physics.comp-ph|cs.CV|physics.ins-det                                                                     1\n",
      "cs.LG|cs.AI|cs.CG|cs.CV|22A05, 22A30, 57M50, 57N65, 57R19|I.4.8; I.5; I.5.1                               1\n",
      "cs.SI|cs.LG|q-fin.ST                                                                                      1\n",
      "cs.MA|cs.AI|cs.CY|cs.DS|cs.GT                                                                             1\n",
      "math.AP|cs.CV|cs.NA|math.RT                                                                               1\n",
      "cs.MS|cs.LG|cs.NA|stat.ML                                                                                 1\n",
      "math.PR|cs.NE|60J10 (Primary) 92D15 (Secondary)                                                           1\n",
      "cs.LG|cs.AI|cs.CV|cs.DC|cs.IT|math.IT                                                                     1\n",
      "cs.CY|cs.CE|cs.CL|cs.HC|cs.NI|physics.data-an                                                             1\n",
      "cs.IT|cs.DS|math.IT|stat.ML                                                                               1\n",
      "stat.ML|cs.LG|math.OC|stat.AP|stat.CO                                                                     1\n",
      "cs.CL|E.2; H.2.1; H.3.3; H.3.4; H.3.7; I.2.7                                                              1\n",
      "math.OC|cs.AI|math.PR                                                                                     1\n",
      "Name: terms, Length: 9772, dtype: int64\n",
      "\n",
      "Some examples of categories and titles in the data set:\n"
     ]
    },
    {
     "data": {
      "text/html": [
       "<div>\n",
       "<style>\n",
       "    .dataframe thead tr:only-child th {\n",
       "        text-align: right;\n",
       "    }\n",
       "\n",
       "    .dataframe thead th {\n",
       "        text-align: left;\n",
       "    }\n",
       "\n",
       "    .dataframe tbody tr th {\n",
       "        vertical-align: top;\n",
       "    }\n",
       "</style>\n",
       "<table border=\"1\" class=\"dataframe\">\n",
       "  <thead>\n",
       "    <tr style=\"text-align: right;\">\n",
       "      <th></th>\n",
       "      <th>category</th>\n",
       "      <th>title</th>\n",
       "    </tr>\n",
       "  </thead>\n",
       "  <tbody>\n",
       "    <tr>\n",
       "      <th>0</th>\n",
       "      <td>cs.CV</td>\n",
       "      <td>faces as lighting probes via unsupervised deep...</td>\n",
       "    </tr>\n",
       "    <tr>\n",
       "      <th>1</th>\n",
       "      <td>cs.CV</td>\n",
       "      <td>learning deep structured active contours end t...</td>\n",
       "    </tr>\n",
       "    <tr>\n",
       "      <th>2</th>\n",
       "      <td>cs.CV</td>\n",
       "      <td>activity detection with latent sub event hiera...</td>\n",
       "    </tr>\n",
       "    <tr>\n",
       "      <th>3</th>\n",
       "      <td>cs.CV</td>\n",
       "      <td>high resolution deep convolutional generative ...</td>\n",
       "    </tr>\n",
       "    <tr>\n",
       "      <th>4</th>\n",
       "      <td>cs.CV</td>\n",
       "      <td>improved part segmentation performance by opti...</td>\n",
       "    </tr>\n",
       "  </tbody>\n",
       "</table>\n",
       "</div>"
      ],
      "text/plain": [
       "  category                                              title\n",
       "0    cs.CV  faces as lighting probes via unsupervised deep...\n",
       "1    cs.CV  learning deep structured active contours end t...\n",
       "2    cs.CV  activity detection with latent sub event hiera...\n",
       "3    cs.CV  high resolution deep convolutional generative ...\n",
       "4    cs.CV  improved part segmentation performance by opti..."
      ]
     },
     "execution_count": 4,
     "metadata": {},
     "output_type": "execute_result"
    }
   ],
   "source": [
    "data = pd.read_csv('data/arxiv_categories.csv', engine='python')\n",
    "data = data.drop_duplicates().reset_index()\n",
    "\n",
    "print(data['terms'].value_counts())\n",
    "terms = ['cs.CV', 'cs.AI', 'cs.CL']\n",
    "data = data.loc[data['terms'].isin(terms)].reset_index()\n",
    "\n",
    "titles = data['title']\n",
    "categories = data['terms']\n",
    "allowed_chars = string.ascii_letters + string.digits + string.punctuation + ' '\n",
    "valid_titles = []\n",
    "valid_categories = []\n",
    "for i in range(len(titles)):\n",
    "    invalids = [char for char in titles[i] if char not in allowed_chars]\n",
    "    if len(invalids) == 0:\n",
    "        valid_titles.append(titles[i])\n",
    "        valid_categories.append(categories[i])\n",
    "        \n",
    "data = pd.DataFrame({'title': valid_titles, 'category': valid_categories})\n",
    "\n",
    "def prepare_text(text):\n",
    "    replace_punctuation = str.maketrans(string.punctuation, ' '*len(string.punctuation))\n",
    "    replace_numbers = str.maketrans(string.digits, ' '*len(string.digits))\n",
    "    text = text.translate(replace_punctuation)\n",
    "    text = text.translate(replace_numbers)\n",
    "    text = re.sub(' +', ' ', text)\n",
    "    text = text.lower()\n",
    "    return text\n",
    "\n",
    "data['title'] = data['title'].apply(lambda x: prepare_text(x))\n",
    "\n",
    "print('\\nSome examples of categories and titles in the data set:')\n",
    "data.head()"
   ]
  },
  {
   "cell_type": "markdown",
   "metadata": {},
   "source": [
    "### Create vocabulary and lookup dictionaries"
   ]
  },
  {
   "cell_type": "markdown",
   "metadata": {},
   "source": [
    "Here we first create a list containing each unique word from all titles available in the dataset, and also a list containing each unique label in the dataset.\n",
    "\n",
    "From these lists we then create 2 dictionaries:\n",
    "One mapping from each word in the vocabulary to a numeric index, and the other mapping from each label to the corresponding numeric index.\n",
    "\n",
    "These dictionaries will help to build the one-hot encoded representation of the data."
   ]
  },
  {
   "cell_type": "code",
   "execution_count": 5,
   "metadata": {},
   "outputs": [
    {
     "name": "stdout",
     "output_type": "stream",
     "text": [
      "Average title length: 9\n",
      "Max title length: 32\n",
      "Min title length: 2\n",
      "Vocabulary Length: 11372\n"
     ]
    }
   ],
   "source": [
    "vocab_data = [title.split() for title in data['title']]\n",
    "vocab_data = np.concatenate(vocab_data)\n",
    "vocab = list(set(vocab_data))\n",
    "vocab_len = len(vocab)\n",
    "word_to_index = { w:i for i,w in enumerate(sorted(vocab)) }\n",
    "\n",
    "labels = list(set(' '.join(data['category']).split()))\n",
    "labels_len = len(labels)\n",
    "label_to_index = { l:i for i,l in enumerate(sorted(labels)) }\n",
    "\n",
    "avg_title_len = int(np.mean([len(x.split()) for x in data['title']]))\n",
    "max_title_len = int(np.max([len(x.split()) for x in data['title']]))\n",
    "min_title_len = int(np.min([len(x.split()) for x in data['title']]))\n",
    "\n",
    "print('Average title length: %d' % avg_title_len)\n",
    "print('Max title length: %d' % max_title_len)\n",
    "print('Min title length: %d' % min_title_len)\n",
    "print('Vocabulary Length: %d' % vocab_len)"
   ]
  },
  {
   "cell_type": "markdown",
   "metadata": {},
   "source": [
    "### Split the data into training, testing, and validation sets"
   ]
  },
  {
   "cell_type": "markdown",
   "metadata": {},
   "source": [
    "Here we split the data into 90% for training, 5% for testing, and 5% for validation. The test data will be used to assess the progress of the model training, specially to see if the model is overfitting. The validation data will be used to assess the performance of the trained model."
   ]
  },
  {
   "cell_type": "code",
   "execution_count": 6,
   "metadata": {},
   "outputs": [
    {
     "name": "stdout",
     "output_type": "stream",
     "text": [
      "Number of instances in the training data: 15294\n",
      "Number of instances in the testing data: 850\n",
      "Number of instances in the validation data: 850\n"
     ]
    },
    {
     "name": "stderr",
     "output_type": "stream",
     "text": [
      "/home/nbuser/anaconda3_501/lib/python3.6/site-packages/sklearn/model_selection/_split.py:2026: FutureWarning: From version 0.21, test_size will always complement train_size unless both are specified.\n",
      "  FutureWarning)\n"
     ]
    }
   ],
   "source": [
    "np.random.seed(369)\n",
    "\n",
    "data_train, data_test = train_test_split(data, train_size=0.9)\n",
    "data_valid, data_test = train_test_split(data_test, train_size=0.5)\n",
    "\n",
    "data_train = data_train.reset_index()\n",
    "data_test = data_test.reset_index()\n",
    "data_valid = data_valid.reset_index()\n",
    "\n",
    "print('Number of instances in the training data: %d' % len(data_train))\n",
    "print('Number of instances in the testing data: %d' % len(data_test))\n",
    "print('Number of instances in the validation data: %d' % len(data_valid))"
   ]
  },
  {
   "cell_type": "markdown",
   "metadata": {},
   "source": [
    "### Prepare batch data"
   ]
  },
  {
   "cell_type": "markdown",
   "metadata": {},
   "source": [
    "CNTK has a high level API for efficient reading and feeding data for model training, which are very useful when you have data that doesn't fit into memory and it is then necessary to stream it from external storage into your training session. This API also takes care of efficient random sampling and batching, but has a proprietary data format. More details [here](https://cntk.ai/pythondocs/Manual_How_to_feed_data.html).\n",
    "\n",
    "But in several situations, as this one, your data is already in a tabular format (such as a CSV file) and is small enough to be fitted in memory. In this case you have to explicitly prepare your training data, usually into mini-batches, as described here.\n",
    "\n",
    "Now we prepare the data that will be fed into the neural network during model training. The function *create_mini_batches()* maps both the input text and labels to their corresponding numeric index. The mapping from this index to the corresponding one-hot encoded vector will be performed in the model definition.\n",
    "\n",
    "We then use this function to generate 3 sets of data: one for model training, one for model testing, and one for model validation. All of these sets have 2 lists of mini-batches of 32 sequences each: one for the arXiv titles, which are the inputs for the model, and one with the corresponding true labels, which are the title categories. Notice that each input sequence will be unrolled for 'Backpropagation Through Time' during training, but the corresponding output is not a sequence. It corresponds to a single category instead.\n",
    "\n",
    "In this way, we build inputs and outputs to be fed into the neural network allowing it to learn to classify a given arXiv title according to its category, as illustrated by the following diagram:\n",
    "\n",
    "<img src=\"./figures/fig7.png\" alt=\"RNN for predicting the next token\" style=\"width: 600px;\"/>\n",
    "\n",
    "In CNTK we can just define each minibatch as a list of NumPy arrays. Notice that these NumPy arrays can be of variable sizes, corresponding to the variable lenghts we have for the arXiv titles.\n",
    "\n",
    "As the labes are single values, it is more efficient to pack the corresponding entire lists into single NumPy arrays."
   ]
  },
  {
   "cell_type": "code",
   "execution_count": 7,
   "metadata": {},
   "outputs": [
    {
     "name": "stdout",
     "output_type": "stream",
     "text": [
      "Number of minibatches for training: 478\n",
      "Number of minibatches for testing: 27\n",
      "Shapes of the first 5 elements in the first minibatch of data_train_x:\n",
      "(7,)\n",
      "(11,)\n",
      "(9,)\n",
      "(13,)\n",
      "(12,)\n",
      "Shapes of the first 5 elements in the first minibatch of data_train_y:\n",
      "(3,)\n",
      "(3,)\n",
      "(3,)\n",
      "(3,)\n",
      "(3,)\n"
     ]
    }
   ],
   "source": [
    "def create_mini_batches(data, mb_size):\n",
    "    data_x = []\n",
    "    data_y = []\n",
    "    for seq in data['title']:\n",
    "        index_x = [word_to_index[w] for w in seq.split()]\n",
    "        index_x = np.array(index_x, dtype=np.float32)\n",
    "        data_x.append(index_x)\n",
    "    for label in data['category']:\n",
    "        index_y = label_to_index[label]\n",
    "        index_y = np.eye(labels_len, dtype=np.float32)[index_y]\n",
    "        data_y.append(index_y)\n",
    "    data_len = len(data_x)\n",
    "    data_x = [data_x[s : s+mb_size] for s in range(0, data_len, mb_size)]\n",
    "    data_y = [np.stack(data_y[s : s+mb_size]) for s in range(0, data_len, mb_size)]\n",
    "    return data_x, data_y\n",
    "\n",
    "mb_size = 32\n",
    "data_train_x, data_train_y = create_mini_batches(data_train, mb_size)\n",
    "data_test_x, data_test_y = create_mini_batches(data_test, mb_size)\n",
    "data_valid_x, data_valid_y = create_mini_batches(data_valid, mb_size)\n",
    "\n",
    "num_mb_train = len(data_train_x)\n",
    "print('Number of minibatches for training: %d' % num_mb_train)\n",
    "\n",
    "num_mb_test = len(data_test_x)\n",
    "print('Number of minibatches for testing: %d' % num_mb_test)\n",
    "\n",
    "print('Shapes of the first 5 elements in the first minibatch of data_train_x:')\n",
    "for i in range(5):\n",
    "    print(data_train_x[0][i].shape)\n",
    "\n",
    "print('Shapes of the first 5 elements in the first minibatch of data_train_y:')\n",
    "for i in range(5):\n",
    "    print(data_train_y[0][i].shape)"
   ]
  },
  {
   "cell_type": "markdown",
   "metadata": {},
   "source": [
    "### Define input and output variables, and the netwotk model"
   ]
  },
  {
   "cell_type": "markdown",
   "metadata": {},
   "source": [
    "The neural network we build has the architecture shown in the following diagram:\n",
    "\n",
    "<img src=\"./figures/fig8.png\" alt=\"RNN model architecture\" style=\"width: 600px;\"/>\n",
    "\n",
    "It takes as input a vector of one-hot encoded words corresponding to a given arXiv title from the dataset. This one-hot encoded vectors go to an Embedding Layer, which maps the one-hot encoded vectors into a lower dimensional vector space (of size 64 in our model). The output of the Embedding Layer goes to the first Recurrent Neural Network block, which is comprised of a Stabilization Layer, a Normalization Layer, a GRU-based bi-directional Recurrent Layer, and a Dropout Layer. The output of this Recurrent Neural Network block is then fed into a second Recurrent Neural Network block similar to the first, but instead of a bi-directional Recurrent Layer it has a one-directional. The output of this second block goes into a simple [Attention](http://www.wildml.com/2016/01/attention-and-memory-in-deep-learning-and-nlp/) Layer. FInally, the output of the Attention Layer goes into a sequence of 2 blocks of a Dropout Layer folowwed by a Dense Layer.\n",
    "\n",
    "Notice that the Recurrent Neural Network block is constructed in a way that we can define the stacking of multiple such blocks, using the CNTK *For()* function.\n",
    "\n",
    "Notice also that it is a common pattern in CNTK (and also in other Deep Learning frameworks) to define the last Dense Layer without an activation function when performing multinomial classification. The activation (Softmax in this case) is defined later, together with the model Cost (Loss) Function.\n",
    "\n",
    "The placeholder for the input values is defined by the variable *X*. The variable *Y* defines the placeholder for the oputput values, which are used to \"teach the network\" the true labels in a supervised manner during training. Remember that in our setup a true label is defined as the category of a given arXiv title.\n",
    "\n",
    "The actual RNN model is defined by the *create_model()* function. CNTK's [Layer library](https://docs.microsoft.com/en-us/python/cognitive-toolkit/layerref?view=cntk-py-2.5.1) allows you to build models in a pattern known as [Function Composition](https://en.wikipedia.org/wiki/Function_composition).\n",
    "\n",
    "In this way we instantiate our RNN model just by calling the *create_model()* function, passing the the one-hot encoded representation of the input to it. The return of this function is the model predicted output, defined by the variable *Z*.\n",
    "\n"
   ]
  },
  {
   "cell_type": "code",
   "execution_count": 8,
   "metadata": {},
   "outputs": [],
   "source": [
    "X = C.sequence.input_variable(shape=(1))\n",
    "X_onehot = C.reshape(C.one_hot(X, num_classes=vocab_len), shape=vocab_len)\n",
    "Y = C.input_variable(shape=(labels_len))\n",
    "\n",
    "n_embed = 64\n",
    "n_hidden = 32\n",
    "n_layers = 2\n",
    "dropout = 0.4\n",
    "\n",
    "def create_model(x):    \n",
    "    with C.layers.default_options(initial_state=0):\n",
    "        for i in range(n_layers):\n",
    "            if i == 0:\n",
    "                x = C.layers.Embedding(shape=n_embed)(x)\n",
    "                x = C.layers.Stabilizer()(x)\n",
    "                x = C.layers.LayerNormalization()(x)\n",
    "                x1 = C.layers.Recurrence(C.layers.GRU(shape=n_hidden))(x)\n",
    "                x2 = C.layers.Recurrence(C.layers.GRU(shape=n_hidden), go_backwards=True)(x)\n",
    "                x = C.splice(x1, x2)\n",
    "                x = C.layers.Dropout(dropout_rate=dropout)(x)\n",
    "            else:\n",
    "                x = C.layers.Stabilizer()(x)\n",
    "                x = C.layers.LayerNormalization()(x)\n",
    "                x = C.layers.Recurrence(C.layers.GRU(shape=n_hidden))(x)\n",
    "                x = C.layers.Dropout(dropout_rate=dropout)(x)\n",
    "        ################################ attention layer\n",
    "        a = C.layers.Dense(shape=n_hidden, activation=C.relu)(x)\n",
    "        a = C.layers.Dense(shape=1, activation=C.softmax)(a)\n",
    "        z = C.layers.Fold(C.plus)(C.element_times(a, x))\n",
    "        ################################\n",
    "        z = C.layers.Dropout(dropout_rate=dropout)(z)\n",
    "        z = C.layers.Dense(shape=n_hidden/2, activation=C.relu)(z)\n",
    "        z = C.layers.Dropout(dropout_rate=dropout)(z)\n",
    "        z = C.layers.Dense(shape=labels_len, activation=None)(z)\n",
    "    return z\n",
    "\n",
    "Z = create_model(X_onehot)"
   ]
  },
  {
   "cell_type": "markdown",
   "metadata": {},
   "source": [
    "### Define the error, cost function, learner and trainer objects"
   ]
  },
  {
   "cell_type": "markdown",
   "metadata": {},
   "source": [
    "Next we define the CNTK objects needed for model training:\n",
    "\n",
    "The model error, which is expressed as a classification error. We model the prediction of the next token as a classification problem, so given an input token the next token in the sequence is predicted at the output as one of the possible tokens in the vocabulary.\n",
    "\n",
    "The model [cost function](https://en.wikipedia.org/wiki/Loss_function) (also known as the loss function), which is defined as the [cross-entropy](https://en.wikipedia.org/wiki/Cross_entropy) loss with [softmax](https://en.wikipedia.org/wiki/Softmax_function) (standard for classification problems).\n",
    "\n",
    "The [learning rate](https://en.wikipedia.org/wiki/Stochastic_gradient_descent#Background) for the optimization algorithm, which is defined in a scheduled manner. This allows the specification of a decreasing learning rate as the optimization progresses.\n",
    "\n",
    "The [momentum](https://en.wikipedia.org/wiki/Stochastic_gradient_descent#Momentum), which is used by some optimization algorithms. In this case, it is also defined in a scheduled manner allowing for the momentum decaying as the optimization progresses.\n",
    "\n",
    "The gradient clipping threshold, used to help avoiding the exploding gradient problem with RNNs.\n",
    "\n",
    "The learner, which defines the optimization algorithm to be used during training. Here we use the [adam](https://en.wikipedia.org/wiki/Stochastic_gradient_descent#Adam) optimization algorithm.\n",
    "\n",
    "The progress_printer, which is an optional helper object that allows you to print learning statistics during model training.\n",
    "\n",
    "The trainer object, which wraps the model predicted output *Z*, the *cost* function, the model *error*, the *learner*, and optionally the *progress_printer*.\n",
    "\n",
    "And finally the evaluator, which is usually used for model assessment during training."
   ]
  },
  {
   "cell_type": "code",
   "execution_count": 9,
   "metadata": {},
   "outputs": [
    {
     "name": "stdout",
     "output_type": "stream",
     "text": [
      "Training 757670 parameters in 27 parameter tensors.\n",
      "None\n"
     ]
    }
   ],
   "source": [
    "error = C.classification_error(Z, Y)\n",
    "\n",
    "cost = C.cross_entropy_with_softmax(Z, Y)\n",
    "\n",
    "lr = C.learning_parameter_schedule([0.0005 * mb_size]*5 +\n",
    "                                   [0.0001 * mb_size]*10 +\n",
    "                                   [0.00005 * mb_size]*10 +\n",
    "                                   [0.00001 * mb_size],\n",
    "                                   minibatch_size=mb_size,\n",
    "                                   epoch_size=num_mb_train*mb_size)\n",
    "\n",
    "m = C.momentum_schedule(0.999, minibatch_size=mb_size)\n",
    "\n",
    "gc = 5.0\n",
    "\n",
    "learner = C.adam(parameters=Z.parameters, lr=lr, momentum=m,\n",
    "                 gradient_clipping_threshold_per_sample=gc,\n",
    "                 gradient_clipping_with_truncation=True)\n",
    "\n",
    "progress_printer = C.logging.ProgressPrinter(freq=num_mb_train, tag='Training')\n",
    "\n",
    "trainer = C.Trainer(Z, (cost, error), learner, progress_printer)\n",
    "\n",
    "evaluator = C.Evaluator(error)\n",
    "\n",
    "print(C.logging.log_number_of_parameters(Z))"
   ]
  },
  {
   "cell_type": "markdown",
   "metadata": {},
   "source": [
    "### Train the model"
   ]
  },
  {
   "cell_type": "markdown",
   "metadata": {},
   "source": [
    "CNTK also has a high level API for model training, which is described [here](https://cntk.ai/pythondocs/Manual_How_to_train_using_declarative_and_imperative_API.html). It allows you to define a training session object that takes care of the training loop and is very useful specially when training in a distributed fashion.\n",
    "\n",
    "Another option, which we use here, is to explicitly control the training loop.\n",
    "\n",
    "In this setup we define an outer loop that iterates over the entire training data. Each of these iterations is also known as an *epoch*. We also define an inner loop that iterates over the mini-batches. For each mini-batch, we feed the input and output values to the network in the *train_minibatch()* method of the *trainer* object. Finally we compute the loss for each mini-batch and for the entire epoch.\n",
    "\n",
    "For this model we also compute the error for both the training and testing data at each epoch. The intuition for computing the error using a separate testing data is to assess the performance of the model training, specially to control for model overfitting.\n",
    "\n",
    "#### Important:\n",
    "There is no need to run the cell below, as a trained model is already provided in the 'models' folder. It takes a long time to run."
   ]
  },
  {
   "cell_type": "code",
   "execution_count": null,
   "metadata": {},
   "outputs": [],
   "source": [
    "# costs_train = []\n",
    "# errors_train = []\n",
    "# errors_test = []\n",
    "\n",
    "# log = open('logs/classify_arxiv_word_log.txt' , 'a')\n",
    "\n",
    "# iter = 10\n",
    "\n",
    "# start_time = time.asctime()\n",
    "# print('Start training time: ' + start_time)\n",
    "# log.write('Start training time: ' + start_time + '\\n\\n')\n",
    "\n",
    "# for i in range(iter):\n",
    "    \n",
    "#     print('Iteration: %i' % (i))\n",
    "#     log.write('Iteration: %i' % (i) + '\\n')\n",
    "    \n",
    "#     epoch_cost_train = 0\n",
    "#     epoch_error_train = 0\n",
    "#     epoch_error_test = 0\n",
    "    \n",
    "#     for k in range(num_mb_train):\n",
    "#         mb_X, mb_Y = data_train_x[k], data_train_y[k]\n",
    "#         arguments = ({X : mb_X, Y : mb_Y})\n",
    "#         trainer.train_minibatch(arguments)\n",
    "#         minibatch_cost = trainer.previous_minibatch_loss_average\n",
    "#         minibatch_error = trainer.previous_minibatch_evaluation_average\n",
    "#         epoch_cost_train += minibatch_cost / num_mb_train\n",
    "#         epoch_error_train += minibatch_error / num_mb_train\n",
    "    \n",
    "#     print(\"Train cost after iteration %i: %f\" % (i, epoch_cost_train))\n",
    "#     log.write(\"Train cost after iteration %i: %f\" % (i, epoch_cost_train) + '\\n')\n",
    "#     costs_train.append(epoch_cost_train)\n",
    "    \n",
    "#     print('Train error after iteration %i: %f' % (i, epoch_error_train))\n",
    "#     log.write(\"Train error after iteration %i: %f\" % (i, epoch_error_train) + '\\n')\n",
    "#     errors_train.append(epoch_error_train)\n",
    "    \n",
    "#     for k in range(num_mb_test):\n",
    "#         mb_X, mb_Y = data_test_x[k], data_test_y[k]\n",
    "#         arguments = ({X : mb_X, Y : mb_Y})\n",
    "#         minibatch_error = evaluator.test_minibatch(arguments)\n",
    "#         epoch_error_test += minibatch_error / num_mb_test\n",
    "        \n",
    "#     print(\"Test error after iteration %i: %f\" % (i, epoch_error_test))\n",
    "#     log.write(\"Test error after iteration %i: %f\" % (i, epoch_error_test) + '\\n')\n",
    "#     errors_test.append(epoch_error_test)\n",
    "    \n",
    "# end_time = time.asctime()\n",
    "# print('End training time: ' + end_time)\n",
    "# log.write('End training time: ' + end_time + '\\n')\n",
    "\n",
    "# model_file = 'models/classify_arxiv_word_epoch_%d.dnn'  % (i+1)\n",
    "# trainer.save_checkpoint(model_file)\n",
    "    \n",
    "# log.close()\n",
    "\n",
    "# plt.figure()\n",
    "# plt.plot(costs_train)\n",
    "\n",
    "# plt.figure()\n",
    "# plt.plot(errors_train)\n",
    "\n",
    "# plt.figure()\n",
    "# plt.plot(errors_test)"
   ]
  },
  {
   "cell_type": "markdown",
   "metadata": {},
   "source": [
    "### Compute the output labels and correct predictions for training and validation datasets"
   ]
  },
  {
   "cell_type": "markdown",
   "metadata": {},
   "source": [
    "Here we define the CNTK computations for the predictions, correct predictions, and the accuracy.\n",
    "\n",
    "We loop through the list of mini-batches for both training and validation sets, keeping track of the model accuracy and also the output labels. Then we compute the global accuracy for both sets. The model outputs will be used later for computing the confusion matrices.\n",
    "\n",
    "Before running the cell below you need to run all but the commented cells above."
   ]
  },
  {
   "cell_type": "code",
   "execution_count": 10,
   "metadata": {},
   "outputs": [
    {
     "name": "stdout",
     "output_type": "stream",
     "text": [
      "Train Accuracy: 0.9839806460049693\n",
      "Validation Accuracy: 0.908235294117647\n"
     ]
    }
   ],
   "source": [
    "trainer.restore_from_checkpoint('models/classify_arxiv_word_epoch_10.dnn')\n",
    "Z = trainer.model\n",
    "\n",
    "correct_prediction = C.equal(C.argmax(Z), C.argmax(Y))\n",
    "accuracy = C.reduce_mean(correct_prediction)\n",
    "prediction = C.argmax(Z)\n",
    "\n",
    "corrects_train = []\n",
    "Yhat_train = []\n",
    "for k in range(len(data_train_x)):\n",
    "    mb_X, mb_Y = data_train_x[k], data_train_y[k]\n",
    "    corrects = accuracy.eval({X: mb_X, Y: mb_Y})\n",
    "    yhat = prediction.eval({X : mb_X})\n",
    "    corrects_train.append(corrects)\n",
    "    Yhat_train.append(yhat)\n",
    "\n",
    "corrects_train = np.concatenate(corrects_train, axis=0)\n",
    "print (\"Train Accuracy:\", corrects_train[corrects_train==1].shape[0] / corrects_train.shape[0])\n",
    "\n",
    "corrects_valid = []\n",
    "Yhat_valid = []\n",
    "for k in range(len(data_valid_x)):\n",
    "    mb_X, mb_Y = data_valid_x[k], data_valid_y[k]\n",
    "    corrects = accuracy.eval({X: mb_X, Y: mb_Y})\n",
    "    yhat = prediction.eval({X : mb_X})\n",
    "    corrects_valid.append(corrects)\n",
    "    Yhat_valid.append(yhat)\n",
    "\n",
    "corrects_valid = np.concatenate(corrects_valid, axis=0)  \n",
    "print (\"Validation Accuracy:\", corrects_valid[corrects_valid==1,].shape[0] / corrects_valid.shape[0])"
   ]
  },
  {
   "cell_type": "markdown",
   "metadata": {},
   "source": [
    "### Plot the Confusion Matrix for both training and validation datasets"
   ]
  },
  {
   "cell_type": "markdown",
   "metadata": {},
   "source": [
    "Finally we plot the [Confusion Matrix](https://en.wikipedia.org/wiki/Confusion_matrix) for both the training and validation datasets.\n",
    "\n",
    "The code for plotting is provided by the [scikit-learn](http://scikit-learn.org/stable/) website."
   ]
  },
  {
   "cell_type": "code",
   "execution_count": 11,
   "metadata": {},
   "outputs": [
    {
     "name": "stdout",
     "output_type": "stream",
     "text": [
      "Normalized confusion matrix\n",
      "[[0.97 0.02 0.01]\n",
      " [0.02 0.97 0.01]\n",
      " [0.   0.   0.99]]\n",
      "Normalized confusion matrix\n",
      "[[0.84 0.06 0.1 ]\n",
      " [0.08 0.83 0.09]\n",
      " [0.03 0.01 0.96]]\n"
     ]
    },
    {
     "data": {
      "image/png": "[encoded data removed]",
      "text/plain": [
       "<matplotlib.figure.Figure at 0x7fae62b5c710>"
      ]
     },
     "metadata": {},
     "output_type": "display_data"
    },
    {
     "data": {
      "image/png": "[encoded data removed]",
      "text/plain": [
       "<matplotlib.figure.Figure at 0x7fae57734be0>"
      ]
     },
     "metadata": {},
     "output_type": "display_data"
    }
   ],
   "source": [
    "Yhat_train_1 = np.concatenate(Yhat_train, axis=0)\n",
    "data_train_y_1 = np.concatenate(data_train_y, axis=0)\n",
    "\n",
    "# convert from onehot back to index\n",
    "data_train_y_1 = [np.where(i==1)[0][0] for i in data_train_y_1]\n",
    "\n",
    "# compute confusion matrix\n",
    "cm_train = confusion_matrix(data_train_y_1, Yhat_train_1)\n",
    "\n",
    "Yhat_valid_1 = np.concatenate(Yhat_valid, axis=0)\n",
    "data_valid_y_1 = np.concatenate(data_valid_y, axis=0)\n",
    "\n",
    "# convert mb_Y from onehot back to index\n",
    "data_valid_y_1 = [np.where(i==1)[0][0] for i in data_valid_y_1]\n",
    "\n",
    "# compute confusion matrix\n",
    "cm_valid = confusion_matrix(data_valid_y_1, Yhat_valid_1)\n",
    "\n",
    "# plot confusion matrix\n",
    "# code borrowed from scikit-learn.org\n",
    "import itertools\n",
    "def plot_confusion_matrix(cm, classes,\n",
    "                          normalize=False,\n",
    "                          title='Confusion matrix',\n",
    "                          cmap=plt.cm.Blues):\n",
    "    \"\"\"\n",
    "    This function prints and plots the confusion matrix.\n",
    "    Normalization can be applied by setting `normalize=True`.\n",
    "    \"\"\"\n",
    "    if normalize:\n",
    "        cm = cm.astype('float') / cm.sum(axis=1)[:, np.newaxis]\n",
    "        print(\"Normalized confusion matrix\")\n",
    "    else:\n",
    "        print('Confusion matrix, without normalization')\n",
    "\n",
    "    print(cm)\n",
    "\n",
    "    plt.imshow(cm, interpolation='nearest', cmap=cmap)\n",
    "    plt.title(title)\n",
    "    plt.colorbar()\n",
    "    tick_marks = np.arange(len(classes))\n",
    "    plt.xticks(tick_marks, classes, rotation=45)\n",
    "    plt.yticks(tick_marks, classes)\n",
    "\n",
    "    fmt = '.2f' if normalize else 'd'\n",
    "    thresh = cm.max() / 2.\n",
    "    for i, j in itertools.product(range(cm.shape[0]), range(cm.shape[1])):\n",
    "        plt.text(j, i, format(cm[i, j], fmt),\n",
    "                 horizontalalignment=\"center\",\n",
    "                 color=\"white\" if cm[i, j] > thresh else \"black\")\n",
    "\n",
    "    plt.tight_layout()\n",
    "    plt.ylabel('True label')\n",
    "    plt.xlabel('Predicted label')\n",
    "\n",
    "np.set_printoptions(precision=2)\n",
    "\n",
    "plt.figure()\n",
    "plot_confusion_matrix(cm_train, classes = terms, title = 'arXiv categories confusion matrix: train data',\n",
    "                      normalize=True)\n",
    "\n",
    "plt.figure()\n",
    "plot_confusion_matrix(cm_valid, classes = terms, title = 'arXiv categories confusion matrix: validation data',\n",
    "                      normalize=True)"
   ]
  }
 ],
 "metadata": {
  "kernelspec": {
   "display_name": "Python 3.6",
   "language": "python",
   "name": "python36"
  },
  "language_info": {
   "codemirror_mode": {
    "name": "ipython",
    "version": 3
   },
   "file_extension": ".py",
   "mimetype": "text/x-python",
   "name": "python",
   "nbconvert_exporter": "python",
   "pygments_lexer": "ipython3",
   "version": "3.6.3"
  }
 },
 "nbformat": 4,
 "nbformat_minor": 2
}
